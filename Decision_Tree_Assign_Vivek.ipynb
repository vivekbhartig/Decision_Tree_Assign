{
 "cells": [
  {
   "cell_type": "markdown",
   "metadata": {},
   "source": [
    "# Decision_Tree_Assign_Vivek"
   ]
  },
  {
   "cell_type": "code",
   "execution_count": 1,
   "metadata": {},
   "outputs": [
    {
     "name": "stdout",
     "output_type": "stream",
     "text": [
      "Decision Tree Classifier Accuracy: 1.0000\n"
     ]
    }
   ],
   "source": [
    "# Write a Python program to train a Decision Tree Classifier on the Iris dataset and print the model accuracy.\n",
    "import numpy as np\n",
    "import pandas as pd\n",
    "from sklearn.datasets import load_iris\n",
    "from sklearn.model_selection import train_test_split\n",
    "from sklearn.tree import DecisionTreeClassifier\n",
    "from sklearn.metrics import accuracy_score\n",
    "\n",
    "# Load the Iris dataset\n",
    "iris = load_iris()\n",
    "X = iris.data  # Features\n",
    "y = iris.target  # Target labels\n",
    "\n",
    "# Split dataset into training and testing sets\n",
    "X_train, X_test, y_train, y_test = train_test_split(X, y, test_size=0.2, random_state=42)\n",
    "\n",
    "# Initialize and train the Decision Tree Classifier\n",
    "model = DecisionTreeClassifier(random_state=42)\n",
    "model.fit(X_train, y_train)\n",
    "\n",
    "# Predict on test data\n",
    "y_pred = model.predict(X_test)\n",
    "\n",
    "# Compute and print model accuracy\n",
    "accuracy = accuracy_score(y_test, y_pred)\n",
    "print(f\"Decision Tree Classifier Accuracy: {accuracy:.4f}\")\n"
   ]
  },
  {
   "cell_type": "code",
   "execution_count": 2,
   "metadata": {},
   "outputs": [
    {
     "name": "stdout",
     "output_type": "stream",
     "text": [
      "sepal length (cm): 0.0000\n",
      "sepal width (cm): 0.0167\n",
      "petal length (cm): 0.9061\n",
      "petal width (cm): 0.0772\n"
     ]
    }
   ],
   "source": [
    "# Write a Python program to train a Decision Tree Classifier using Gini Impurity as the criterion and print the\n",
    "# feature importances.\n",
    "import numpy as np\n",
    "import pandas as pd\n",
    "from sklearn.datasets import load_iris\n",
    "from sklearn.model_selection import train_test_split\n",
    "from sklearn.tree import DecisionTreeClassifier\n",
    "\n",
    "# Load the Iris dataset\n",
    "iris = load_iris()\n",
    "X = iris.data  # Features\n",
    "y = iris.target  # Target labels\n",
    "\n",
    "# Split dataset into training and testing sets\n",
    "X_train, X_test, y_train, y_test = train_test_split(X, y, test_size=0.2, random_state=42)\n",
    "\n",
    "# Initialize and train the Decision Tree Classifier using Gini impurity\n",
    "model = DecisionTreeClassifier(criterion=\"gini\", random_state=42)\n",
    "model.fit(X_train, y_train)\n",
    "\n",
    "# Print feature importances\n",
    "feature_importances = model.feature_importances_\n",
    "for feature, importance in zip(iris.feature_names, feature_importances):\n",
    "    print(f\"{feature}: {importance:.4f}\")\n"
   ]
  },
  {
   "cell_type": "code",
   "execution_count": 3,
   "metadata": {},
   "outputs": [
    {
     "name": "stdout",
     "output_type": "stream",
     "text": [
      "Decision Tree Classifier Accuracy (Entropy): 1.0000\n"
     ]
    }
   ],
   "source": [
    "# Write a Python program to train a Decision Tree Classifier using Entropy as the splitting criterion and print the\n",
    "# model accuracy.\n",
    "import numpy as np\n",
    "import pandas as pd\n",
    "from sklearn.datasets import load_iris\n",
    "from sklearn.model_selection import train_test_split\n",
    "from sklearn.tree import DecisionTreeClassifier\n",
    "from sklearn.metrics import accuracy_score\n",
    "\n",
    "# Load the Iris dataset\n",
    "iris = load_iris()\n",
    "X = iris.data  # Features\n",
    "y = iris.target  # Target labels\n",
    "\n",
    "# Split dataset into training and testing sets\n",
    "X_train, X_test, y_train, y_test = train_test_split(X, y, test_size=0.2, random_state=42)\n",
    "\n",
    "# Initialize and train the Decision Tree Classifier using Entropy\n",
    "model = DecisionTreeClassifier(criterion=\"entropy\", random_state=42)\n",
    "model.fit(X_train, y_train)\n",
    "\n",
    "# Predict on test data\n",
    "y_pred = model.predict(X_test)\n",
    "\n",
    "# Compute and print model accuracy\n",
    "accuracy = accuracy_score(y_test, y_pred)\n",
    "print(f\"Decision Tree Classifier Accuracy (Entropy): {accuracy:.4f}\")\n"
   ]
  },
  {
   "cell_type": "code",
   "execution_count": 4,
   "metadata": {},
   "outputs": [
    {
     "name": "stdout",
     "output_type": "stream",
     "text": [
      "Decision Tree Regressor MSE: 0.4980\n"
     ]
    }
   ],
   "source": [
    "# Write a Python program to train a Decision Tree Regressor on a housing dataset and evaluate using Mean\n",
    "# Squared Error (MSE).\n",
    "import pandas as pd\n",
    "import numpy as np\n",
    "from sklearn.model_selection import train_test_split\n",
    "from sklearn.tree import DecisionTreeRegressor\n",
    "from sklearn.metrics import mean_squared_error\n",
    "from sklearn.datasets import fetch_california_housing\n",
    "\n",
    "# Load the California Housing dataset\n",
    "housing = fetch_california_housing()\n",
    "X = pd.DataFrame(housing.data, columns=housing.feature_names)  # Features\n",
    "y = housing.target  # Target variable (median house value)\n",
    "\n",
    "# Split dataset into training and testing sets\n",
    "X_train, X_test, y_train, y_test = train_test_split(X, y, test_size=0.2, random_state=42)\n",
    "\n",
    "# Initialize and train the Decision Tree Regressor\n",
    "model = DecisionTreeRegressor(random_state=42)\n",
    "model.fit(X_train, y_train)\n",
    "\n",
    "# Predict on test data\n",
    "y_pred = model.predict(X_test)\n",
    "\n",
    "# Compute and print Mean Squared Error (MSE)\n",
    "mse = mean_squared_error(y_test, y_pred)\n",
    "print(f\"Decision Tree Regressor MSE: {mse:.4f}\")\n"
   ]
  },
  {
   "cell_type": "code",
   "execution_count": 2,
   "metadata": {},
   "outputs": [
    {
     "name": "stdout",
     "output_type": "stream",
     "text": [
      "Requirement already satisfied: graphviz in c:\\programdata\\anaconda3\\lib\\site-packages (0.20.3)\n",
      "Note: you may need to restart the kernel to use updated packages.\n"
     ]
    }
   ],
   "source": [
    "pip install graphviz\n"
   ]
  },
  {
   "cell_type": "code",
   "execution_count": 4,
   "metadata": {},
   "outputs": [
    {
     "ename": "SyntaxError",
     "evalue": "invalid syntax (<ipython-input-4-0f9d2a67e9f6>, line 1)",
     "output_type": "error",
     "traceback": [
      "\u001b[1;36m  File \u001b[1;32m\"<ipython-input-4-0f9d2a67e9f6>\"\u001b[1;36m, line \u001b[1;32m1\u001b[0m\n\u001b[1;33m    pip install scikit-learn graphviz\u001b[0m\n\u001b[1;37m        ^\u001b[0m\n\u001b[1;31mSyntaxError\u001b[0m\u001b[1;31m:\u001b[0m invalid syntax\n"
     ]
    }
   ],
   "source": [
    "pip install scikit-learn graphviz\n",
    "\n"
   ]
  },
  {
   "cell_type": "code",
   "execution_count": 1,
   "metadata": {},
   "outputs": [
    {
     "data": {
      "text/plain": [
       "'decision_tree.pdf'"
      ]
     },
     "execution_count": 1,
     "metadata": {},
     "output_type": "execute_result"
    }
   ],
   "source": [
    "#Write a Python program to train a Decision Tree Classifier and visualize the tree using graphviz.\n",
    "\n",
    "import pandas as pd\n",
    "import numpy as np\n",
    "from sklearn.datasets import load_iris\n",
    "from sklearn.tree import DecisionTreeClassifier, export_graphviz\n",
    "import graphviz\n",
    "\n",
    "# Load the dataset\n",
    "iris = load_iris()\n",
    "X, y = iris.data, iris.target\n",
    "\n",
    "# Train a Decision Tree Classifier\n",
    "clf = DecisionTreeClassifier(criterion='entropy', max_depth=3, random_state=42)\n",
    "clf.fit(X, y)\n",
    "\n",
    "# Export the tree visualization\n",
    "dot_data = export_graphviz(\n",
    "    clf, out_file=None, \n",
    "    feature_names=iris.feature_names,\n",
    "    class_names=iris.target_names,\n",
    "    filled=True, rounded=True, special_characters=True\n",
    ")\n",
    "\n",
    "# Visualize using Graphviz\n",
    "graph = graphviz.Source(dot_data)  \n",
    "graph.render(\"decision_tree\")  # Saves as decision_tree.pdf\n",
    "graph.view()  # Opens the visualization\n",
    "\n",
    "\n"
   ]
  },
  {
   "cell_type": "code",
   "execution_count": 3,
   "metadata": {},
   "outputs": [
    {
     "name": "stdout",
     "output_type": "stream",
     "text": [
      "Accuracy with max depth=3: 1.0000\n",
      "Accuracy with fully grown tree: 1.0000\n",
      "The limited-depth tree performs better or similarly, avoiding overfitting.\n"
     ]
    }
   ],
   "source": [
    "# Write a Python program to train a Decision Tree Classifier with a maximum depth of 3 and compare its\n",
    "# accuracy with a fully grown tree.\n",
    "import numpy as np\n",
    "import pandas as pd\n",
    "from sklearn.datasets import load_iris\n",
    "from sklearn.tree import DecisionTreeClassifier\n",
    "from sklearn.model_selection import train_test_split\n",
    "from sklearn.metrics import accuracy_score\n",
    "\n",
    "# Load dataset\n",
    "iris = load_iris()\n",
    "X, y = iris.data, iris.target\n",
    "\n",
    "# Split into training and test sets\n",
    "X_train, X_test, y_train, y_test = train_test_split(X, y, test_size=0.2, random_state=42)\n",
    "\n",
    "# Train Decision Tree with max depth = 3\n",
    "clf_limited = DecisionTreeClassifier(max_depth=3, random_state=42)\n",
    "clf_limited.fit(X_train, y_train)\n",
    "y_pred_limited = clf_limited.predict(X_test)\n",
    "accuracy_limited = accuracy_score(y_test, y_pred_limited)\n",
    "\n",
    "# Train a fully grown Decision Tree (no depth limit)\n",
    "clf_full = DecisionTreeClassifier(random_state=42)  # Default grows fully\n",
    "clf_full.fit(X_train, y_train)\n",
    "y_pred_full = clf_full.predict(X_test)\n",
    "accuracy_full = accuracy_score(y_test, y_pred_full)\n",
    "\n",
    "# Print results\n",
    "print(f\"Accuracy with max depth=3: {accuracy_limited:.4f}\")\n",
    "print(f\"Accuracy with fully grown tree: {accuracy_full:.4f}\")\n",
    "\n",
    "# Compare accuracy\n",
    "if accuracy_full > accuracy_limited:\n",
    "    print(\"The fully grown tree has higher accuracy, but may overfit!\")\n",
    "else:\n",
    "    print(\"The limited-depth tree performs better or similarly, avoiding overfitting.\")\n"
   ]
  },
  {
   "cell_type": "code",
   "execution_count": 4,
   "metadata": {},
   "outputs": [
    {
     "name": "stdout",
     "output_type": "stream",
     "text": [
      "Accuracy with min_samples_split=5: 1.0000\n",
      "Accuracy with default tree: 1.0000\n",
      "The min_samples_split=5 tree performs better or similarly, improving generalization.\n"
     ]
    }
   ],
   "source": [
    "#Write a Python program to train a Decision Tree Classifier using min_samples_split=5 and compare its accuracy with a default tree.\n",
    "import numpy as np\n",
    "import pandas as pd\n",
    "from sklearn.datasets import load_iris\n",
    "from sklearn.tree import DecisionTreeClassifier\n",
    "from sklearn.model_selection import train_test_split\n",
    "from sklearn.metrics import accuracy_score\n",
    "\n",
    "# Load dataset\n",
    "iris = load_iris()\n",
    "X, y = iris.data, iris.target\n",
    "\n",
    "# Split into training and test sets\n",
    "X_train, X_test, y_train, y_test = train_test_split(X, y, test_size=0.2, random_state=42)\n",
    "\n",
    "# Train Decision Tree with min_samples_split=5\n",
    "clf_split = DecisionTreeClassifier(min_samples_split=5, random_state=42)\n",
    "clf_split.fit(X_train, y_train)\n",
    "y_pred_split = clf_split.predict(X_test)\n",
    "accuracy_split = accuracy_score(y_test, y_pred_split)\n",
    "\n",
    "# Train a default Decision Tree\n",
    "clf_default = DecisionTreeClassifier(random_state=42)  # Uses default parameters\n",
    "clf_default.fit(X_train, y_train)\n",
    "y_pred_default = clf_default.predict(X_test)\n",
    "accuracy_default = accuracy_score(y_test, y_pred_default)\n",
    "\n",
    "# Print results\n",
    "print(f\"Accuracy with min_samples_split=5: {accuracy_split:.4f}\")\n",
    "print(f\"Accuracy with default tree: {accuracy_default:.4f}\")\n",
    "\n",
    "# Compare accuracy\n",
    "if accuracy_default > accuracy_split:\n",
    "    print(\"The default tree has higher accuracy, but may overfit!\")\n",
    "else:\n",
    "    print(\"The min_samples_split=5 tree performs better or similarly, improving generalization.\")\n"
   ]
  },
  {
   "cell_type": "code",
   "execution_count": 5,
   "metadata": {},
   "outputs": [
    {
     "name": "stdout",
     "output_type": "stream",
     "text": [
      "Accuracy with unscaled data: 1.0000\n",
      "Accuracy with scaled data: 1.0000\n",
      "Scaling had no impact on Decision Tree accuracy.\n"
     ]
    }
   ],
   "source": [
    "# Write a Python program to apply feature scaling before training a Decision Tree Classifier and compare its accuracy with unscaled data.\n",
    "import numpy as np\n",
    "import pandas as pd\n",
    "from sklearn.datasets import load_iris\n",
    "from sklearn.tree import DecisionTreeClassifier\n",
    "from sklearn.model_selection import train_test_split\n",
    "from sklearn.preprocessing import StandardScaler\n",
    "from sklearn.metrics import accuracy_score\n",
    "\n",
    "# Load dataset\n",
    "iris = load_iris()\n",
    "X, y = iris.data, iris.target\n",
    "\n",
    "# Split data into training and test sets\n",
    "X_train, X_test, y_train, y_test = train_test_split(X, y, test_size=0.2, random_state=42)\n",
    "\n",
    "# Apply feature scaling\n",
    "scaler = StandardScaler()\n",
    "X_train_scaled = scaler.fit_transform(X_train)\n",
    "X_test_scaled = scaler.transform(X_test)\n",
    "\n",
    "# Train Decision Tree on unscaled data\n",
    "clf_unscaled = DecisionTreeClassifier(random_state=42)\n",
    "clf_unscaled.fit(X_train, y_train)\n",
    "y_pred_unscaled = clf_unscaled.predict(X_test)\n",
    "accuracy_unscaled = accuracy_score(y_test, y_pred_unscaled)\n",
    "\n",
    "# Train Decision Tree on scaled data\n",
    "clf_scaled = DecisionTreeClassifier(random_state=42)\n",
    "clf_scaled.fit(X_train_scaled, y_train)\n",
    "y_pred_scaled = clf_scaled.predict(X_test_scaled)\n",
    "accuracy_scaled = accuracy_score(y_test, y_pred_scaled)\n",
    "\n",
    "# Print results\n",
    "print(f\"Accuracy with unscaled data: {accuracy_unscaled:.4f}\")\n",
    "print(f\"Accuracy with scaled data: {accuracy_scaled:.4f}\")\n",
    "\n",
    "# Compare accuracy\n",
    "if accuracy_scaled > accuracy_unscaled:\n",
    "    print(\"Feature scaling improved accuracy!\")\n",
    "elif accuracy_scaled < accuracy_unscaled:\n",
    "    print(\"Feature scaling reduced accuracy, but it may help with other models.\")\n",
    "else:\n",
    "    print(\"Scaling had no impact on Decision Tree accuracy.\")\n"
   ]
  },
  {
   "cell_type": "code",
   "execution_count": 6,
   "metadata": {},
   "outputs": [
    {
     "name": "stdout",
     "output_type": "stream",
     "text": [
      "Accuracy with One-vs-Rest Decision Tree Classifier: 1.0000\n"
     ]
    }
   ],
   "source": [
    "# Write a Python program to train a Decision Tree Classifier using One-vs-Rest (OvR) strategy for multiclass classification.\n",
    "import numpy as np\n",
    "import pandas as pd\n",
    "from sklearn.datasets import load_iris\n",
    "from sklearn.tree import DecisionTreeClassifier\n",
    "from sklearn.model_selection import train_test_split\n",
    "from sklearn.multiclass import OneVsRestClassifier\n",
    "from sklearn.metrics import accuracy_score\n",
    "\n",
    "# Load dataset\n",
    "iris = load_iris()\n",
    "X, y = iris.data, iris.target\n",
    "\n",
    "# Split dataset into training and test sets\n",
    "X_train, X_test, y_train, y_test = train_test_split(X, y, test_size=0.2, random_state=42)\n",
    "\n",
    "# Apply One-vs-Rest strategy to Decision Tree Classifier\n",
    "clf_ovr = OneVsRestClassifier(DecisionTreeClassifier(random_state=42))\n",
    "clf_ovr.fit(X_train, y_train)\n",
    "\n",
    "# Predict on test set\n",
    "y_pred = clf_ovr.predict(X_test)\n",
    "\n",
    "# Calculate accuracy\n",
    "accuracy = accuracy_score(y_test, y_pred)\n",
    "\n",
    "# Print accuracy\n",
    "print(f\"Accuracy with One-vs-Rest Decision Tree Classifier: {accuracy:.4f}\")\n"
   ]
  },
  {
   "cell_type": "code",
   "execution_count": 7,
   "metadata": {},
   "outputs": [
    {
     "name": "stdout",
     "output_type": "stream",
     "text": [
      "Feature Importance Scores:\n",
      "             Feature  Importance\n",
      "2  petal length (cm)    0.906143\n",
      "3   petal width (cm)    0.077186\n",
      "1   sepal width (cm)    0.016670\n",
      "0  sepal length (cm)    0.000000\n"
     ]
    }
   ],
   "source": [
    "# Write a Python program to train a Decision Tree Classifier and display the feature importance scores.\n",
    "import numpy as np\n",
    "import pandas as pd\n",
    "from sklearn.datasets import load_iris\n",
    "from sklearn.tree import DecisionTreeClassifier\n",
    "from sklearn.model_selection import train_test_split\n",
    "\n",
    "# Load dataset\n",
    "iris = load_iris()\n",
    "X, y = iris.data, iris.target\n",
    "feature_names = iris.feature_names\n",
    "\n",
    "# Split data into training and test sets\n",
    "X_train, X_test, y_train, y_test = train_test_split(X, y, test_size=0.2, random_state=42)\n",
    "\n",
    "# Train Decision Tree Classifier\n",
    "clf = DecisionTreeClassifier(random_state=42)\n",
    "clf.fit(X_train, y_train)\n",
    "\n",
    "# Get feature importance scores\n",
    "feature_importance = clf.feature_importances_\n",
    "\n",
    "# Display feature importance\n",
    "importance_df = pd.DataFrame({'Feature': feature_names, 'Importance': feature_importance})\n",
    "importance_df = importance_df.sort_values(by='Importance', ascending=False)\n",
    "\n",
    "print(\"Feature Importance Scores:\")\n",
    "print(importance_df)\n"
   ]
  },
  {
   "cell_type": "code",
   "execution_count": 8,
   "metadata": {},
   "outputs": [
    {
     "name": "stdout",
     "output_type": "stream",
     "text": [
      "Mean Squared Error (max_depth=5): 396.4533\n",
      "Mean Squared Error (fully grown tree): 566.2481\n",
      "The limited-depth tree performs better or similarly, improving generalization.\n"
     ]
    },
    {
     "data": {
      "image/png": "[encoded data removed]",
      "text/plain": [
       "<Figure size 432x288 with 1 Axes>"
      ]
     },
     "metadata": {
      "needs_background": "light"
     },
     "output_type": "display_data"
    }
   ],
   "source": [
    "# Write a Python program to train a Decision Tree Regressor with max_depth=5 and compare its performance with an unrestricted tree.\n",
    "import numpy as np\n",
    "import pandas as pd\n",
    "import matplotlib.pyplot as plt\n",
    "from sklearn.datasets import make_regression\n",
    "from sklearn.tree import DecisionTreeRegressor\n",
    "from sklearn.model_selection import train_test_split\n",
    "from sklearn.metrics import mean_squared_error\n",
    "\n",
    "# Generate synthetic regression dataset\n",
    "X, y = make_regression(n_samples=200, n_features=1, noise=15, random_state=42)\n",
    "\n",
    "# Split into training and test sets\n",
    "X_train, X_test, y_train, y_test = train_test_split(X, y, test_size=0.2, random_state=42)\n",
    "\n",
    "# Train Decision Tree Regressor with max_depth=5\n",
    "tree_limited = DecisionTreeRegressor(max_depth=5, random_state=42)\n",
    "tree_limited.fit(X_train, y_train)\n",
    "y_pred_limited = tree_limited.predict(X_test)\n",
    "mse_limited = mean_squared_error(y_test, y_pred_limited)\n",
    "\n",
    "# Train a fully grown Decision Tree Regressor\n",
    "tree_full = DecisionTreeRegressor(random_state=42)  # No depth limit\n",
    "tree_full.fit(X_train, y_train)\n",
    "y_pred_full = tree_full.predict(X_test)\n",
    "mse_full = mean_squared_error(y_test, y_pred_full)\n",
    "\n",
    "# Print results\n",
    "print(f\"Mean Squared Error (max_depth=5): {mse_limited:.4f}\")\n",
    "print(f\"Mean Squared Error (fully grown tree): {mse_full:.4f}\")\n",
    "\n",
    "# Compare performance\n",
    "if mse_full < mse_limited:\n",
    "    print(\"The fully grown tree has lower MSE but may overfit!\")\n",
    "else:\n",
    "    print(\"The limited-depth tree performs better or similarly, improving generalization.\")\n",
    "\n",
    "# Plot predictions\n",
    "plt.scatter(X_test, y_test, label=\"Actual Data\", color=\"blue\")\n",
    "plt.scatter(X_test, y_pred_limited, label=\"Predictions (max_depth=5)\", color=\"red\")\n",
    "plt.scatter(X_test, y_pred_full, label=\"Predictions (fully grown tree)\", color=\"green\", marker='x')\n",
    "plt.legend()\n",
    "plt.xlabel(\"Feature Value\")\n",
    "plt.ylabel(\"Target Value\")\n",
    "plt.title(\"Decision Tree Regression Predictions\")\n",
    "plt.show()\n"
   ]
  },
  {
   "cell_type": "code",
   "execution_count": 9,
   "metadata": {},
   "outputs": [
    {
     "data": {
      "image/png": "[encoded data removed]",
      "text/plain": [
       "<Figure size 576x360 with 1 Axes>"
      ]
     },
     "metadata": {
      "needs_background": "light"
     },
     "output_type": "display_data"
    }
   ],
   "source": [
    "# Write a Python program to train a Decision Tree Classifier, apply Cost Complexity Pruning (CCP), and visualize its effect on accuracy.\n",
    "import numpy as np\n",
    "import pandas as pd\n",
    "import matplotlib.pyplot as plt\n",
    "from sklearn.datasets import load_iris\n",
    "from sklearn.tree import DecisionTreeClassifier\n",
    "from sklearn.model_selection import train_test_split\n",
    "from sklearn.metrics import accuracy_score\n",
    "\n",
    "# Load dataset\n",
    "iris = load_iris()\n",
    "X, y = iris.data, iris.target\n",
    "\n",
    "# Split dataset into training and test sets\n",
    "X_train, X_test, y_train, y_test = train_test_split(X, y, test_size=0.2, random_state=42)\n",
    "\n",
    "# Train an unpruned Decision Tree\n",
    "clf_unpruned = DecisionTreeClassifier(random_state=42)\n",
    "clf_unpruned.fit(X_train, y_train)\n",
    "y_pred_unpruned = clf_unpruned.predict(X_test)\n",
    "accuracy_unpruned = accuracy_score(y_test, y_pred_unpruned)\n",
    "\n",
    "# Compute effective alpha values for pruning\n",
    "path = clf_unpruned.cost_complexity_pruning_path(X_train, y_train)\n",
    "ccp_alphas = path.ccp_alphas[:-1]  # Exclude the maximum alpha which results in an empty tree\n",
    "\n",
    "# Train pruned trees for different ccp_alpha values\n",
    "accuracies = []\n",
    "for alpha in ccp_alphas:\n",
    "    clf_pruned = DecisionTreeClassifier(random_state=42, ccp_alpha=alpha)\n",
    "    clf_pruned.fit(X_train, y_train)\n",
    "    y_pred_pruned = clf_pruned.predict(X_test)\n",
    "    accuracies.append(accuracy_score(y_test, y_pred_pruned))\n",
    "\n",
    "# Plot accuracy vs. ccp_alpha\n",
    "plt.figure(figsize=(8, 5))\n",
    "plt.plot(ccp_alphas, accuracies, marker=\"o\", linestyle=\"dashed\", color=\"b\", label=\"Pruned Accuracy\")\n",
    "plt.axhline(y=accuracy_unpruned, color=\"r\", linestyle=\"solid\", label=\"Unpruned Accuracy\")\n",
    "plt.xlabel(\"Cost Complexity Pruning Alpha (ccp_alpha)\")\n",
    "plt.ylabel(\"Accuracy\")\n",
    "plt.title(\"Effect of CCP on Decision Tree Accuracy\")\n",
    "plt.legend()\n",
    "plt.show()\n"
   ]
  },
  {
   "cell_type": "code",
   "execution_count": 10,
   "metadata": {},
   "outputs": [
    {
     "name": "stdout",
     "output_type": "stream",
     "text": [
      "Precision: 1.0000\n",
      "Recall: 1.0000\n",
      "F1-Score: 1.0000\n",
      "\n",
      "Classification Report:\n",
      "              precision    recall  f1-score   support\n",
      "\n",
      "      setosa       1.00      1.00      1.00        10\n",
      "  versicolor       1.00      1.00      1.00         9\n",
      "   virginica       1.00      1.00      1.00        11\n",
      "\n",
      "    accuracy                           1.00        30\n",
      "   macro avg       1.00      1.00      1.00        30\n",
      "weighted avg       1.00      1.00      1.00        30\n",
      "\n"
     ]
    }
   ],
   "source": [
    "# Write a Python program to train a Decision Tree Classifier and evaluate its performance using Precision, Recall, and F1-Score.\n",
    "import numpy as np\n",
    "import pandas as pd\n",
    "from sklearn.datasets import load_iris\n",
    "from sklearn.tree import DecisionTreeClassifier\n",
    "from sklearn.model_selection import train_test_split\n",
    "from sklearn.metrics import precision_score, recall_score, f1_score, classification_report\n",
    "\n",
    "# Load dataset\n",
    "iris = load_iris()\n",
    "X, y = iris.data, iris.target\n",
    "\n",
    "# Split dataset into training and test sets\n",
    "X_train, X_test, y_train, y_test = train_test_split(X, y, test_size=0.2, random_state=42)\n",
    "\n",
    "# Train Decision Tree Classifier\n",
    "clf = DecisionTreeClassifier(random_state=42)\n",
    "clf.fit(X_train, y_train)\n",
    "\n",
    "# Predict on test set\n",
    "y_pred = clf.predict(X_test)\n",
    "\n",
    "# Compute precision, recall, and F1-score\n",
    "precision = precision_score(y_test, y_pred, average='weighted')\n",
    "recall = recall_score(y_test, y_pred, average='weighted')\n",
    "f1 = f1_score(y_test, y_pred, average='weighted')\n",
    "\n",
    "# Print evaluation metrics\n",
    "print(f\"Precision: {precision:.4f}\")\n",
    "print(f\"Recall: {recall:.4f}\")\n",
    "print(f\"F1-Score: {f1:.4f}\")\n",
    "\n",
    "# Detailed classification report\n",
    "print(\"\\nClassification Report:\")\n",
    "print(classification_report(y_test, y_pred, target_names=iris.target_names))\n"
   ]
  },
  {
   "cell_type": "code",
   "execution_count": 11,
   "metadata": {},
   "outputs": [
    {
     "data": {
      "image/png": "[encoded data removed]",
      "text/plain": [
       "<Figure size 432x288 with 2 Axes>"
      ]
     },
     "metadata": {
      "needs_background": "light"
     },
     "output_type": "display_data"
    }
   ],
   "source": [
    "# Write a Python program to train a Decision Tree Classifier and visualize the confusion matrix using seaborn.\n",
    "import numpy as np\n",
    "import pandas as pd\n",
    "import seaborn as sns\n",
    "import matplotlib.pyplot as plt\n",
    "from sklearn.datasets import load_iris\n",
    "from sklearn.tree import DecisionTreeClassifier\n",
    "from sklearn.model_selection import train_test_split\n",
    "from sklearn.metrics import confusion_matrix\n",
    "\n",
    "# Load dataset\n",
    "iris = load_iris()\n",
    "X, y = iris.data, iris.target\n",
    "class_names = iris.target_names\n",
    "\n",
    "# Split dataset into training and test sets\n",
    "X_train, X_test, y_train, y_test = train_test_split(X, y, test_size=0.2, random_state=42)\n",
    "\n",
    "# Train Decision Tree Classifier\n",
    "clf = DecisionTreeClassifier(random_state=42)\n",
    "clf.fit(X_train, y_train)\n",
    "\n",
    "# Predict on test data\n",
    "y_pred = clf.predict(X_test)\n",
    "\n",
    "# Compute confusion matrix\n",
    "cm = confusion_matrix(y_test, y_pred)\n",
    "\n",
    "# Visualize the confusion matrix using Seaborn\n",
    "plt.figure(figsize=(6, 4))\n",
    "sns.heatmap(cm, annot=True, fmt=\"d\", cmap=\"Blues\", xticklabels=class_names, yticklabels=class_names)\n",
    "plt.xlabel(\"Predicted Labels\")\n",
    "plt.ylabel(\"True Labels\")\n",
    "plt.title(\"Confusion Matrix - Decision Tree Classifier\")\n",
    "plt.show()\n"
   ]
  },
  {
   "cell_type": "code",
   "execution_count": 12,
   "metadata": {},
   "outputs": [
    {
     "name": "stdout",
     "output_type": "stream",
     "text": [
      "Best Parameters: {'max_depth': 10, 'min_samples_split': 2}\n",
      "Optimized Decision Tree Accuracy: 1.0000\n"
     ]
    }
   ],
   "source": [
    "# Write a Python program to train a Decision Tree Classifier and use GridSearchCV to find the optimal values for max_depth and min_samples_split.\n",
    "import numpy as np\n",
    "import pandas as pd\n",
    "from sklearn.datasets import load_iris\n",
    "from sklearn.tree import DecisionTreeClassifier\n",
    "from sklearn.model_selection import train_test_split, GridSearchCV\n",
    "from sklearn.metrics import accuracy_score\n",
    "\n",
    "# Load dataset\n",
    "iris = load_iris()\n",
    "X, y = iris.data, iris.target\n",
    "\n",
    "# Split into training and test sets\n",
    "X_train, X_test, y_train, y_test = train_test_split(X, y, test_size=0.2, random_state=42)\n",
    "\n",
    "# Define parameter grid for max_depth and min_samples_split\n",
    "param_grid = {\n",
    "    'max_depth': [3, 5, 10, None],  # Trying different depths\n",
    "    'min_samples_split': [2, 5, 10] # Minimum samples required for a split\n",
    "}\n",
    "\n",
    "# Apply GridSearchCV to find the best hyperparameters\n",
    "clf = DecisionTreeClassifier(random_state=42)\n",
    "grid_search = GridSearchCV(clf, param_grid, cv=5, scoring='accuracy')\n",
    "grid_search.fit(X_train, y_train)\n",
    "\n",
    "# Get best parameters\n",
    "best_params = grid_search.best_params_\n",
    "print(f\"Best Parameters: {best_params}\")\n",
    "\n",
    "# Train Decision Tree with best parameters\n",
    "clf_best = DecisionTreeClassifier(**best_params, random_state=42)\n",
    "clf_best.fit(X_train, y_train)\n",
    "y_pred = clf_best.predict(X_test)\n",
    "\n",
    "# Evaluate accuracy\n",
    "accuracy = accuracy_score(y_test, y_pred)\n",
    "print(f\"Optimized Decision Tree Accuracy: {accuracy:.4f}\")\n"
   ]
  },
  {
   "cell_type": "code",
   "execution_count": null,
   "metadata": {},
   "outputs": [],
   "source": []
  }
 ],
 "metadata": {
  "kernelspec": {
   "display_name": "Python 3",
   "language": "python",
   "name": "python3"
  },
  "language_info": {
   "codemirror_mode": {
    "name": "ipython",
    "version": 3
   },
   "file_extension": ".py",
   "mimetype": "text/x-python",
   "name": "python",
   "nbconvert_exporter": "python",
   "pygments_lexer": "ipython3",
   "version": "3.8.5"
  }
 },
 "nbformat": 4,
 "nbformat_minor": 4
}
